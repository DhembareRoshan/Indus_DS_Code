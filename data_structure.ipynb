{
 "cells": [
  {
   "cell_type": "markdown",
   "id": "5e08c722-15aa-44b6-8c80-941aeae75eb2",
   "metadata": {},
   "source": [
    "# Data Stucture"
   ]
  },
  {
   "cell_type": "markdown",
   "id": "d2b7044a-ce4f-420f-a16a-5214a4a5da38",
   "metadata": {},
   "source": [
    "### Data Stucture acts as container to store multiple values in one variable\n",
    "### We perform Data Manupulation in Data Structure like add, delete, replace/update "
   ]
  },
  {
   "cell_type": "raw",
   "id": "8bb7493a-16bb-4d8c-9f17-a09e91365a81",
   "metadata": {},
   "source": [
    "Two types of Data Structure\n",
    " 1) Homogenous Data Structure (Same) all values inside data stucture are with same datatype\n",
    " 2) Heterogenous Data Structure (Different)"
   ]
  },
  {
   "cell_type": "raw",
   "id": "a540e811-b88e-42bf-a321-f23eca1c81e7",
   "metadata": {},
   "source": [
    "Homogenous DS\n",
    "    - Array (mutable)\n",
    "Heterogenous DS\n",
    " 1) Mutable (perform changes)\n",
    "    -list (built-in method)\n",
    "    -dictionary (built-in method)\n",
    "    -DataFrame (Table)\n",
    " 2) Immutable (not allowed to perform changes)\n",
    "    -Tuple (built-in method)\n",
    "    -set (built-in method)\n",
    "\n",
    "Note :- Array and DataFrame not built-in we need external library for use"
   ]
  },
  {
   "cell_type": "markdown",
   "id": "c1992163-76da-433d-b5e1-419c09c41516",
   "metadata": {},
   "source": [
    "# List"
   ]
  },
  {
   "cell_type": "raw",
   "id": "911ba2e4-0544-4e2c-af47-e288903c553e",
   "metadata": {},
   "source": [
    "LIST : []\n",
    "Ordered             -> Elements are stored in a specific sequence, and indexing follow the order.\n",
    "Mutable             -> Lists can be modified (Elemtns can be added, removed, or changed).\n",
    "Heterogenous        -> A list can store different data types(integers,string,floats,etc.).\n",
    "Indexted            -> Elements can be accedde using zero-based indexing and negative indexing.\n",
    "Allows Duplicates   -> Lists can contain duplicaate values.\n",
    "Dynamic Size        -> The size of a list dan grow or shrink dynamically based on operations"
   ]
  },
  {
   "cell_type": "code",
   "execution_count": 35,
   "id": "b4da4017-80f6-43bd-8430-18d0dbfe9cb5",
   "metadata": {},
   "outputs": [
    {
     "name": "stdout",
     "output_type": "stream",
     "text": [
      "[]\n",
      "<class 'list'>\n"
     ]
    }
   ],
   "source": [
    "lst = [] #empty list\n",
    "print(lst)\n",
    "print(type(lst))"
   ]
  },
  {
   "cell_type": "code",
   "execution_count": 36,
   "id": "9f4c79fd-8db4-44d2-88e5-061c6410f1fc",
   "metadata": {},
   "outputs": [
    {
     "data": {
      "text/plain": [
       "list"
      ]
     },
     "execution_count": 36,
     "metadata": {},
     "output_type": "execute_result"
    }
   ],
   "source": [
    "xyz = list()  #create list using built-in method\n",
    "type(xyz)"
   ]
  },
  {
   "cell_type": "code",
   "execution_count": 37,
   "id": "77c48fed-d632-4694-9f32-b95cbf2d5a29",
   "metadata": {},
   "outputs": [
    {
     "data": {
      "text/plain": [
       "[10, 20.2, 'python', True]"
      ]
     },
     "execution_count": 37,
     "metadata": {},
     "output_type": "execute_result"
    }
   ],
   "source": [
    "lst1 = [10, 20.2, 'python', True] #orederd they have fix position\n",
    "lst1"
   ]
  },
  {
   "cell_type": "code",
   "execution_count": 38,
   "id": "f9ae7f3a-0b7d-48da-bea4-64949404321c",
   "metadata": {},
   "outputs": [
    {
     "name": "stdout",
     "output_type": "stream",
     "text": [
      "20.2\n",
      "True\n"
     ]
    }
   ],
   "source": [
    "# indexing\n",
    "#  0     1       2      3     Positive index\n",
    "# [10, 20.2, 'python', True]\n",
    "#  -4    -3     -2      -1    Negative index\n",
    "\n",
    "\n",
    "print(lst1[1]) #positive indexing start with 0, 1,..\n",
    "print(lst1[-1])   #negative indexing -1, -2, -3,... (reverse order)"
   ]
  },
  {
   "cell_type": "code",
   "execution_count": 39,
   "id": "cb5af417-59dc-4bf4-b4ea-68c154ebe7bc",
   "metadata": {},
   "outputs": [
    {
     "data": {
      "text/plain": [
       "[10, 20.2, 'python']"
      ]
     },
     "execution_count": 39,
     "metadata": {},
     "output_type": "execute_result"
    }
   ],
   "source": [
    "#list slicing\n",
    "lst1[0:3]"
   ]
  },
  {
   "cell_type": "markdown",
   "id": "dfba9b73-e866-4aff-9fd4-353f828d74f2",
   "metadata": {},
   "source": [
    "### Adding value in list"
   ]
  },
  {
   "cell_type": "raw",
   "id": "1a403444-e34d-40f3-8152-8891d96dfc79",
   "metadata": {},
   "source": [
    "- append(value)\n",
    "    add value at end of the list\n",
    "- extend()\n",
    "    add value at last but if we provide list add value seprate not entire list in last...if we give string each char store sepratly not entire string\n",
    "- insert(idx,value)\n",
    "    add value at specified position"
   ]
  },
  {
   "cell_type": "code",
   "execution_count": 40,
   "id": "ec95b05e-dea6-422e-868d-1bee4eed412e",
   "metadata": {},
   "outputs": [
    {
     "data": {
      "text/plain": [
       "[10, 20.2, 'python', True, 'Banana']"
      ]
     },
     "execution_count": 40,
     "metadata": {},
     "output_type": "execute_result"
    }
   ],
   "source": [
    "lst1.append('Banana')\n",
    "lst1"
   ]
  },
  {
   "cell_type": "code",
   "execution_count": 41,
   "id": "26a8ba51-0a83-4390-a1da-84c59da9b182",
   "metadata": {},
   "outputs": [
    {
     "name": "stdout",
     "output_type": "stream",
     "text": [
      "[10, 20.2, 'python', True, 'Banana', [12, 13]]\n"
     ]
    }
   ],
   "source": [
    "lst1.append([12,13])\n",
    "print(lst1)"
   ]
  },
  {
   "cell_type": "code",
   "execution_count": 44,
   "id": "48ce63c2-b514-42bc-8764-f586a9f10153",
   "metadata": {},
   "outputs": [
    {
     "data": {
      "text/plain": [
       "[10,\n",
       " 3123,\n",
       " 20.2,\n",
       " 'python',\n",
       " True,\n",
       " 'Banana',\n",
       " [12, 13],\n",
       " 112,\n",
       " 233,\n",
       " 'H',\n",
       " 'E',\n",
       " 'l',\n",
       " 'l',\n",
       " 'o']"
      ]
     },
     "execution_count": 44,
     "metadata": {},
     "output_type": "execute_result"
    }
   ],
   "source": [
    "lst1.extend('HEllo')\n",
    "lst1"
   ]
  },
  {
   "cell_type": "code",
   "execution_count": 43,
   "id": "e81c6aa8-bb2a-4418-a8cd-af1bc4a17789",
   "metadata": {},
   "outputs": [
    {
     "name": "stdout",
     "output_type": "stream",
     "text": [
      "[10, 3123, 20.2, 'python', True, 'Banana', [12, 13], 112, 233]\n"
     ]
    }
   ],
   "source": [
    "lst1.insert(1,3123) #add value 3123 at index 1\n",
    "print(lst1)"
   ]
  },
  {
   "cell_type": "markdown",
   "id": "a9d015e0-15e7-45f5-b66a-672ee3b32e99",
   "metadata": {},
   "source": [
    "#### index()   -> find index of that perticular value"
   ]
  },
  {
   "cell_type": "code",
   "execution_count": 45,
   "id": "a72a689b-ae8c-4a7e-9c5e-7c0033d82779",
   "metadata": {},
   "outputs": [
    {
     "data": {
      "text/plain": [
       "3"
      ]
     },
     "execution_count": 45,
     "metadata": {},
     "output_type": "execute_result"
    }
   ],
   "source": [
    "# find index position\n",
    "lst1.index('python') # if find positin of that value"
   ]
  },
  {
   "cell_type": "markdown",
   "id": "93a2655a-51f8-4ec3-9074-4d0d612fcf9e",
   "metadata": {},
   "source": [
    "### Remove values from list"
   ]
  },
  {
   "cell_type": "raw",
   "id": "c30945a2-7b4e-44d6-a858-c35b89e28083",
   "metadata": {},
   "source": [
    "- pop(idx) \n",
    "    it return value what we delete\n",
    "    if idx not specified it consider last index\n",
    "- remove(value)\n",
    "    using value we removed that from list\n",
    "- clear()\n",
    "    remove all element from list"
   ]
  },
  {
   "cell_type": "code",
   "execution_count": 46,
   "id": "c80f4254-1fec-432d-8714-ed2d8146e0e3",
   "metadata": {},
   "outputs": [
    {
     "name": "stdout",
     "output_type": "stream",
     "text": [
      "[10, 3123, 20.2, 'python', True, 'Banana', [12, 13], 112, 233, 'H', 'E', 'l', 'l', 'o']\n",
      "[10, 3123, 'python', True, 'Banana', [12, 13], 112, 233, 'H', 'E', 'l', 'l', 'o']\n"
     ]
    }
   ],
   "source": [
    "print(lst1)\n",
    "lst1.pop(2)\n",
    "print(lst1)"
   ]
  },
  {
   "cell_type": "code",
   "execution_count": 47,
   "id": "5c828581-379a-43ef-aaac-e1f2b8294808",
   "metadata": {},
   "outputs": [
    {
     "name": "stdout",
     "output_type": "stream",
     "text": [
      "[10, 3123, 'python', True, 'Banana', [12, 13], 112, 233, 'H', 'E', 'l', 'l', 'o']\n",
      "[10, 3123, 'python', True, 'Banana', [12, 13], 112, 233, 'H', 'E', 'l', 'o']\n"
     ]
    }
   ],
   "source": [
    "print(lst1)\n",
    "lst1.remove('l') #only one value remove....the first appereace of that value deleted\n",
    "print(lst1)"
   ]
  },
  {
   "cell_type": "code",
   "execution_count": 48,
   "id": "6b699a1e-0e35-491d-b2e6-6a800cba131f",
   "metadata": {},
   "outputs": [
    {
     "name": "stdout",
     "output_type": "stream",
     "text": [
      "[10, 3123, 'python', True, 'Banana', [12, 13], 112, 233, 'H', 'E', 'l', 'o']\n",
      "[]\n"
     ]
    }
   ],
   "source": [
    "print(lst1)\n",
    "lst1.clear()\n",
    "print(lst1)"
   ]
  },
  {
   "cell_type": "raw",
   "id": "2e6fd0c8-2e51-46ca-9406-ea73d6a7f937",
   "metadata": {},
   "source": [
    "Note :- argument is an input for we use for that function"
   ]
  },
  {
   "cell_type": "code",
   "execution_count": null,
   "id": "efc2a525-07e6-42e2-8d20-0141087c321d",
   "metadata": {},
   "outputs": [],
   "source": []
  }
 ],
 "metadata": {
  "kernelspec": {
   "display_name": "Python 3 (ipykernel)",
   "language": "python",
   "name": "python3"
  },
  "language_info": {
   "codemirror_mode": {
    "name": "ipython",
    "version": 3
   },
   "file_extension": ".py",
   "mimetype": "text/x-python",
   "name": "python",
   "nbconvert_exporter": "python",
   "pygments_lexer": "ipython3",
   "version": "3.11.7"
  }
 },
 "nbformat": 4,
 "nbformat_minor": 5
}
