{
 "cells": [
  {
   "cell_type": "markdown",
   "id": "5c22ad6d-343b-410f-aa83-b8d93b50a193",
   "metadata": {},
   "source": [
    "# Variable"
   ]
  },
  {
   "cell_type": "raw",
   "id": "044372c1-e421-4cf4-9a59-652082d54253",
   "metadata": {},
   "source": [
    "Variable acts as container space to store any data.\n",
    "It helps us to assign a memory location to a value which can be called whenever we want that value.\n",
    "Variables can only start with letters and underscore.\n",
    "Numbers can be added but not first.\n",
    "Special Characters are not allowed.\n",
    "Variable name should be given in such way that you understand.\n",
    "Value assing using assignment operator.\n",
    "Python is case sensitive.\n",
    "Variable can't be keywords."
   ]
  },
  {
   "cell_type": "code",
   "execution_count": 1,
   "id": "78850ffc-4079-43ca-b14e-aa5b9f34c0ec",
   "metadata": {},
   "outputs": [],
   "source": [
    "a = 20\n",
    "hello_=123\n",
    "_str=\"hi there! \" \n",
    "a12_2= 12\n",
    "#there are valid variable names"
   ]
  },
  {
   "cell_type": "markdown",
   "id": "9a5c831f-2c08-4df3-9830-50aa16480e6b",
   "metadata": {},
   "source": [
    "# Comments"
   ]
  },
  {
   "cell_type": "markdown",
   "id": "ce23e0fd-5973-456d-9205-4ff1c3e558c0",
   "metadata": {},
   "source": [
    "Comments are those lines in code which we don't want to exicute.\n",
    "They are use only for understanding purpose.\n",
    "\n",
    "i) Single line comment , syntax = #\n",
    "\n",
    "ii) Multiline comments, syntax = ''' <comment> '''    tripple quote"
   ]
  },
  {
   "cell_type": "code",
   "execution_count": 2,
   "id": "82dd235e-fe07-4bb8-b026-8f809055e1b1",
   "metadata": {},
   "outputs": [],
   "source": [
    "# This is single line comment"
   ]
  },
  {
   "cell_type": "code",
   "execution_count": 5,
   "id": "3d2410f6-64df-46d3-8559-1e3768bdb050",
   "metadata": {},
   "outputs": [],
   "source": [
    "''' This is \n",
    "    multiline \n",
    "    comments... we store 1 in a'''  \n",
    "a=1"
   ]
  },
  {
   "cell_type": "markdown",
   "id": "33d21a63-aaa8-48a3-8660-acfdc5b41a2e",
   "metadata": {},
   "source": [
    "# Data Types"
   ]
  },
  {
   "cell_type": "raw",
   "id": "69f50fe0-9923-413a-9efc-2cb521d30dd9",
   "metadata": {},
   "source": [
    "Data types define what kind of value a variable can hold in a programming language.\n",
    "\n",
    "Type   \t     Example\t        Description\n",
    "int\t         10, -5\t            Integer (whole numbers)\n",
    "float\t     3.14, -0.5\t        Decimal numbers (floating point)\n",
    "str\t         \"hello\"\t        String (text)\n",
    "bool\t     True, False\t    Boolean (True or False)\n",
    "list\t     [1, 2, 3]\t        Ordered collection (can change)\n",
    "tuple\t     (1, 2, 3)\t        Ordered collection (cannot change)\n",
    "dict\t     {\"a\": 1}\t        Key-value pairs (like a map)\n",
    "set\t         {1, 2, 3}\t        Unordered collection of unique items"
   ]
  },
  {
   "cell_type": "code",
   "execution_count": 7,
   "id": "a866e050-3147-4abf-9580-bfb47355f7e7",
   "metadata": {},
   "outputs": [],
   "source": [
    "a = 23               #integer\n",
    "b = 2.32             #decimal/ float\n",
    "c = \"string\"         #string\n",
    "d = True             #bool\n",
    "e = [1,'se', 23.2]   #list\n",
    "f = (1, 12.2, 'h1')  #tuple\n",
    "g = {a : 1}          #dictionary\n",
    "h=  {1 , 1.2 , '22'} #set"
   ]
  },
  {
   "cell_type": "markdown",
   "id": "99c6642c-6cd5-4191-b97d-d36a35495533",
   "metadata": {},
   "source": [
    "### type()\n",
    "#### This fuction tells use what is datatype of that variable"
   ]
  },
  {
   "cell_type": "code",
   "execution_count": 8,
   "id": "012db436-4648-4623-87da-c6d4d1e7e7ae",
   "metadata": {},
   "outputs": [
    {
     "name": "stdout",
     "output_type": "stream",
     "text": [
      "<class 'int'>\n",
      "<class 'tuple'>\n"
     ]
    }
   ],
   "source": [
    "print(type(a))\n",
    "\n",
    "print(type(f))"
   ]
  },
  {
   "cell_type": "markdown",
   "id": "1ea0f873-9f80-4773-80c1-9ae58677aa24",
   "metadata": {},
   "source": [
    "# String Method"
   ]
  },
  {
   "cell_type": "markdown",
   "id": "e4c43cc5-4706-4b99-82ec-0c96f50120f6",
   "metadata": {},
   "source": [
    "## Trimming"
   ]
  },
  {
   "cell_type": "markdown",
   "id": "2bbb35d9-fa72-42d4-8aec-cebf98f8c5cb",
   "metadata": {},
   "source": [
    "#### a> strip = leading & tailing character remove by default space\n",
    "#### b> lstrip = Leading / left side character removed bydefault space\n",
    "#### c> rstrip = tailing / right side character removed bydefault space"
   ]
  },
  {
   "cell_type": "code",
   "execution_count": 15,
   "id": "a56a2d17-4839-49c5-af46-b69ffbe87af2",
   "metadata": {},
   "outputs": [
    {
     "name": "stdout",
     "output_type": "stream",
     "text": [
      "hello\n",
      "hello\n"
     ]
    }
   ],
   "source": [
    "text1 = '      hello     '\n",
    "text2= '$$$$$$hello$$$$$'\n",
    "print(text1.strip())\n",
    "print(text2.strip('$'))"
   ]
  },
  {
   "cell_type": "code",
   "execution_count": 11,
   "id": "b68336a9-d55b-469a-9fd3-665ab54728c7",
   "metadata": {},
   "outputs": [
    {
     "name": "stdout",
     "output_type": "stream",
     "text": [
      "hello     \n",
      "hello$$$$$\n"
     ]
    }
   ],
   "source": [
    "print(text1.lstrip())\n",
    "print(text2.lstrip('$'"
   ]
  },
  {
   "cell_type": "code",
   "execution_count": 13,
   "id": "af9c5e96-9667-4cb8-b50b-08ff929396dd",
   "metadata": {},
   "outputs": [
    {
     "name": "stdout",
     "output_type": "stream",
     "text": [
      "      hello\n",
      "$$$$$$hello\n"
     ]
    }
   ],
   "source": [
    "print(text1.rstrip())\n",
    "print(text2.rstrip('$'))"
   ]
  },
  {
   "cell_type": "markdown",
   "id": "b799b908-5810-401c-8ee4-d55e9fa6676a",
   "metadata": {},
   "source": [
    "## Splitting and Joining"
   ]
  },
  {
   "cell_type": "markdown",
   "id": "77f49e3e-10c2-4cf7-a780-d98e5042f9b1",
   "metadata": {},
   "source": [
    "### split() = Split the string into list"
   ]
  },
  {
   "cell_type": "code",
   "execution_count": 2,
   "id": "c7bc29aa-9494-42dc-a80c-f46e836de56d",
   "metadata": {},
   "outputs": [
    {
     "data": {
      "text/plain": [
       "['ro', 'gmail.com']"
      ]
     },
     "execution_count": 2,
     "metadata": {},
     "output_type": "execute_result"
    }
   ],
   "source": [
    "email='ro@gmail.com'\n",
    "email.split('@')"
   ]
  },
  {
   "cell_type": "code",
   "execution_count": 3,
   "id": "d50c67fd-43da-4a55-a33e-67b32899af4f",
   "metadata": {},
   "outputs": [
    {
     "data": {
      "text/plain": [
       "['milk', 'bread', 'jam']"
      ]
     },
     "execution_count": 3,
     "metadata": {},
     "output_type": "execute_result"
    }
   ],
   "source": [
    "products='milk,bread,jam'\n",
    "products.split(',')"
   ]
  },
  {
   "cell_type": "markdown",
   "id": "9f2d7c32-916c-41e6-9c00-291184f8d2c2",
   "metadata": {},
   "source": [
    "### join(iterable) = Join elements of an iterable wiht the string as seprator"
   ]
  },
  {
   "cell_type": "code",
   "execution_count": 14,
   "id": "1a38bf8a-5524-4a16-b0c6-ffc2a138f1a6",
   "metadata": {},
   "outputs": [
    {
     "data": {
      "text/plain": [
       "'pythonsession'"
      ]
     },
     "execution_count": 14,
     "metadata": {},
     "output_type": "execute_result"
    }
   ],
   "source": [
    "#simple concatenation\n",
    "s1='python'\n",
    "s2='session'\n",
    "s1+s2"
   ]
  },
  {
   "cell_type": "code",
   "execution_count": 19,
   "id": "03424527-cf48-4c0b-965f-0fd1e079ae16",
   "metadata": {},
   "outputs": [
    {
     "data": {
      "text/plain": [
       "'python-session'"
      ]
     },
     "execution_count": 19,
     "metadata": {},
     "output_type": "execute_result"
    }
   ],
   "source": [
    "#using join\n",
    "'-'.join([s1,s2])   #join takes only one argument so we provide as a list"
   ]
  },
  {
   "cell_type": "code",
   "execution_count": 20,
   "id": "b05c0ec4-fd95-4ff5-a703-6438c4c6d034",
   "metadata": {},
   "outputs": [
    {
     "data": {
      "text/plain": [
       "'spythonepythonspythonspythonipythonopythonn'"
      ]
     },
     "execution_count": 20,
     "metadata": {},
     "output_type": "execute_result"
    }
   ],
   "source": [
    "'''The join() method in Python inserts the calling string (s1 = 'python') between each character of the given iterable \n",
    "(s2 = 'session').\n",
    "So, 'python'.join('session') means that the string 'python' is inserted between each letter of 'session'.'''\n",
    "\n",
    "s1.join(s2)"
   ]
  },
  {
   "cell_type": "markdown",
   "id": "d1421199-f72d-4d87-b819-c9372f4dc8e2",
   "metadata": {},
   "source": [
    "## Formatiing\n",
    "#### 1. formate() = Formats the string using placeholder\n",
    "#### 2. f-strings(f\"{var}\" - faster and more redable string formatting\n",
    "\n",
    "#### A format string is a string that includes placeholders to insert values dynamically — like variables, numbers, or other data — into the string."
   ]
  },
  {
   "cell_type": "code",
   "execution_count": 24,
   "id": "a359d43f-d807-4ee5-8c08-979a75170d30",
   "metadata": {},
   "outputs": [
    {
     "name": "stdout",
     "output_type": "stream",
     "text": [
      "Sanika is 23 years old and takes DS course and fee is 3566\n"
     ]
    }
   ],
   "source": [
    "name='Sanika'\n",
    "age=23\n",
    "course='DS'\n",
    "print(f'{name} is {age} years old and takes {course} course and fee is {2333+1233}') #we also add mathematics here"
   ]
  },
  {
   "cell_type": "code",
   "execution_count": null,
   "id": "145f7867-fcb5-467b-a00c-e433abd5f10f",
   "metadata": {},
   "outputs": [],
   "source": []
  }
 ],
 "metadata": {
  "kernelspec": {
   "display_name": "Python 3 (ipykernel)",
   "language": "python",
   "name": "python3"
  },
  "language_info": {
   "codemirror_mode": {
    "name": "ipython",
    "version": 3
   },
   "file_extension": ".py",
   "mimetype": "text/x-python",
   "name": "python",
   "nbconvert_exporter": "python",
   "pygments_lexer": "ipython3",
   "version": "3.11.7"
  }
 },
 "nbformat": 4,
 "nbformat_minor": 5
}
