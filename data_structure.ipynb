{
 "cells": [
  {
   "cell_type": "markdown",
   "id": "692e555b-56a2-4ffb-a308-61d863395397",
   "metadata": {},
   "source": [
    "# Data Stucture"
   ]
  },
  {
   "cell_type": "markdown",
   "id": "d2b7044a-ce4f-420f-a16a-5214a4a5da38",
   "metadata": {},
   "source": [
    "### Data Stucture acts as container to store multiple values in one variable\n",
    "### We perform Data Manupulation in Data Structure like add, delete, replace/update "
   ]
  },
  {
   "cell_type": "raw",
   "id": "4e79840e-e96f-4fd6-aee2-cb3973da8c80",
   "metadata": {},
   "source": [
    "Two types of Data Structure\n",
    " 1) Homogenous Data Structure (Same) all values inside data stucture are with same datatype\n",
    " 2) Heterogenous Data Structure (Different)"
   ]
  },
  {
   "cell_type": "raw",
   "id": "a540e811-b88e-42bf-a321-f23eca1c81e7",
   "metadata": {},
   "source": [
    "Homogenous DS\n",
    "    - Array (mutable)\n",
    "Heterogenous DS\n",
    " 1) Mutable (perform changes)\n",
    "    -list (built-in method)\n",
    "    -dictionary (built-in method)\n",
    "    -DataFrame (Table)\n",
    " 2) Immutable (not allowed to perform changes)\n",
    "    -Tuple (built-in method)\n",
    "    -set (built-in method)\n",
    "\n",
    "Note :- Array and DataFrame not built-in we need external library for use"
   ]
  },
  {
   "cell_type": "markdown",
   "id": "c1992163-76da-433d-b5e1-419c09c41516",
   "metadata": {},
   "source": [
    "# List"
   ]
  },
  {
   "cell_type": "raw",
   "id": "911ba2e4-0544-4e2c-af47-e288903c553e",
   "metadata": {},
   "source": [
    "LIST : []\n",
    "Ordered             -> Elements are stored in a specific sequence, and indexing follow the order.\n",
    "Mutable             -> Lists can be modified (Elemtns can be added, removed, or changed).\n",
    "Heterogenous        -> A list can store different data types(integers,string,floats,etc.).\n",
    "Indexted            -> Elements can be accedde using zero-based indexing and negative indexing.\n",
    "Allows Duplicates   -> Lists can contain duplicaate values.\n",
    "Dynamic Size        -> The size of a list dan grow or shrink dynamically based on operations"
   ]
  },
  {
   "cell_type": "code",
   "execution_count": 2,
   "id": "b4da4017-80f6-43bd-8430-18d0dbfe9cb5",
   "metadata": {},
   "outputs": [
    {
     "name": "stdout",
     "output_type": "stream",
     "text": [
      "[]\n",
      "<class 'list'>\n"
     ]
    }
   ],
   "source": [
    "lst = [] #empty list\n",
    "print(lst)\n",
    "print(type(lst))"
   ]
  },
  {
   "cell_type": "code",
   "execution_count": 3,
   "id": "9f4c79fd-8db4-44d2-88e5-061c6410f1fc",
   "metadata": {},
   "outputs": [
    {
     "data": {
      "text/plain": [
       "list"
      ]
     },
     "execution_count": 3,
     "metadata": {},
     "output_type": "execute_result"
    }
   ],
   "source": [
    "xyz = list()  #create list using built-in method\n",
    "type(xyz)"
   ]
  },
  {
   "cell_type": "code",
   "execution_count": 4,
   "id": "77c48fed-d632-4694-9f32-b95cbf2d5a29",
   "metadata": {},
   "outputs": [
    {
     "data": {
      "text/plain": [
       "[10, 20.2, 'python', True]"
      ]
     },
     "execution_count": 4,
     "metadata": {},
     "output_type": "execute_result"
    }
   ],
   "source": [
    "lst1 = [10, 20.2, 'python', True] #orederd they have fix position\n",
    "lst1"
   ]
  },
  {
   "cell_type": "code",
   "execution_count": 5,
   "id": "f9ae7f3a-0b7d-48da-bea4-64949404321c",
   "metadata": {},
   "outputs": [
    {
     "name": "stdout",
     "output_type": "stream",
     "text": [
      "20.2\n",
      "True\n"
     ]
    }
   ],
   "source": [
    "# indexing\n",
    "#  0     1       2      3     Positive index\n",
    "# [10, 20.2, 'python', True]\n",
    "#  -4    -3     -2      -1    Negative index\n",
    "\n",
    "\n",
    "print(lst1[1]) #positive indexing start with 0, 1,..\n",
    "print(lst1[-1])   #negative indexing -1, -2, -3,... (reverse order)"
   ]
  },
  {
   "cell_type": "code",
   "execution_count": 6,
   "id": "cb5af417-59dc-4bf4-b4ea-68c154ebe7bc",
   "metadata": {},
   "outputs": [
    {
     "data": {
      "text/plain": [
       "[10, 20.2, 'python']"
      ]
     },
     "execution_count": 6,
     "metadata": {},
     "output_type": "execute_result"
    }
   ],
   "source": [
    "#list slicing\n",
    "lst1[0:3]"
   ]
  },
  {
   "cell_type": "markdown",
   "id": "dfba9b73-e866-4aff-9fd4-353f828d74f2",
   "metadata": {},
   "source": [
    "### Adding value in list"
   ]
  },
  {
   "cell_type": "raw",
   "id": "1a403444-e34d-40f3-8152-8891d96dfc79",
   "metadata": {},
   "source": [
    "- append(value)\n",
    "    add value at end of the list\n",
    "- extend()\n",
    "    add value at last but if we provide list add value seprate not entire list in last...if we give string each char store sepratly not entire string\n",
    "- insert(idx,value)\n",
    "    add value at specified position"
   ]
  },
  {
   "cell_type": "code",
   "execution_count": 7,
   "id": "ec95b05e-dea6-422e-868d-1bee4eed412e",
   "metadata": {},
   "outputs": [
    {
     "data": {
      "text/plain": [
       "[10, 20.2, 'python', True, 'Banana']"
      ]
     },
     "execution_count": 7,
     "metadata": {},
     "output_type": "execute_result"
    }
   ],
   "source": [
    "lst1.append('Banana')\n",
    "lst1"
   ]
  },
  {
   "cell_type": "code",
   "execution_count": 8,
   "id": "26a8ba51-0a83-4390-a1da-84c59da9b182",
   "metadata": {},
   "outputs": [
    {
     "name": "stdout",
     "output_type": "stream",
     "text": [
      "[10, 20.2, 'python', True, 'Banana', [12, 13]]\n"
     ]
    }
   ],
   "source": [
    "lst1.append([12,13])\n",
    "print(lst1)"
   ]
  },
  {
   "cell_type": "code",
   "execution_count": 9,
   "id": "48ce63c2-b514-42bc-8764-f586a9f10153",
   "metadata": {},
   "outputs": [
    {
     "data": {
      "text/plain": [
       "[10, 20.2, 'python', True, 'Banana', [12, 13], 'H', 'E', 'l', 'l', 'o']"
      ]
     },
     "execution_count": 9,
     "metadata": {},
     "output_type": "execute_result"
    }
   ],
   "source": [
    "lst1.extend('HEllo')\n",
    "lst1"
   ]
  },
  {
   "cell_type": "code",
   "execution_count": 10,
   "id": "e81c6aa8-bb2a-4418-a8cd-af1bc4a17789",
   "metadata": {},
   "outputs": [
    {
     "name": "stdout",
     "output_type": "stream",
     "text": [
      "[10, 3123, 20.2, 'python', True, 'Banana', [12, 13], 'H', 'E', 'l', 'l', 'o']\n"
     ]
    }
   ],
   "source": [
    "lst1.insert(1,3123) #add value 3123 at index 1\n",
    "print(lst1)"
   ]
  },
  {
   "cell_type": "markdown",
   "id": "a9d015e0-15e7-45f5-b66a-672ee3b32e99",
   "metadata": {},
   "source": [
    "#### index()   -> find index of that perticular value"
   ]
  },
  {
   "cell_type": "code",
   "execution_count": 11,
   "id": "a72a689b-ae8c-4a7e-9c5e-7c0033d82779",
   "metadata": {},
   "outputs": [
    {
     "data": {
      "text/plain": [
       "3"
      ]
     },
     "execution_count": 11,
     "metadata": {},
     "output_type": "execute_result"
    }
   ],
   "source": [
    "# find index position\n",
    "lst1.index('python') # if find positin of that value"
   ]
  },
  {
   "cell_type": "markdown",
   "id": "93a2655a-51f8-4ec3-9074-4d0d612fcf9e",
   "metadata": {},
   "source": [
    "### Remove values from list"
   ]
  },
  {
   "cell_type": "raw",
   "id": "c30945a2-7b4e-44d6-a858-c35b89e28083",
   "metadata": {},
   "source": [
    "- pop(idx) \n",
    "    it return value what we delete\n",
    "    if idx not specified it consider last index\n",
    "- remove(value)\n",
    "    using value we removed that from list\n",
    "- clear()\n",
    "    remove all element from list"
   ]
  },
  {
   "cell_type": "code",
   "execution_count": 12,
   "id": "c80f4254-1fec-432d-8714-ed2d8146e0e3",
   "metadata": {},
   "outputs": [
    {
     "name": "stdout",
     "output_type": "stream",
     "text": [
      "[10, 3123, 20.2, 'python', True, 'Banana', [12, 13], 'H', 'E', 'l', 'l', 'o']\n",
      "[10, 3123, 'python', True, 'Banana', [12, 13], 'H', 'E', 'l', 'l', 'o']\n"
     ]
    }
   ],
   "source": [
    "print(lst1)\n",
    "lst1.pop(2)\n",
    "print(lst1)"
   ]
  },
  {
   "cell_type": "code",
   "execution_count": 13,
   "id": "5c828581-379a-43ef-aaac-e1f2b8294808",
   "metadata": {},
   "outputs": [
    {
     "name": "stdout",
     "output_type": "stream",
     "text": [
      "[10, 3123, 'python', True, 'Banana', [12, 13], 'H', 'E', 'l', 'l', 'o']\n",
      "[10, 3123, 'python', True, 'Banana', [12, 13], 'H', 'E', 'l', 'o']\n"
     ]
    }
   ],
   "source": [
    "print(lst1)\n",
    "lst1.remove('l') #only one value remove....the first appereace of that value deleted\n",
    "print(lst1)\n"
   ]
  },
  {
   "cell_type": "code",
   "execution_count": 14,
   "id": "6b699a1e-0e35-491d-b2e6-6a800cba131f",
   "metadata": {},
   "outputs": [
    {
     "name": "stdout",
     "output_type": "stream",
     "text": [
      "[10, 3123, 'python', True, 'Banana', [12, 13], 'H', 'E', 'l', 'o']\n",
      "[]\n"
     ]
    }
   ],
   "source": [
    "print(lst1)\n",
    "lst1.clear()\n",
    "print(lst1)"
   ]
  },
  {
   "cell_type": "markdown",
   "id": "61eb3b3e-c0af-4b59-97f5-dc5b1251a7fc",
   "metadata": {},
   "source": [
    "## Replace/Update element in list"
   ]
  },
  {
   "cell_type": "code",
   "execution_count": 3,
   "id": "6df4dcd7-41ec-40b3-a605-790089ff612f",
   "metadata": {},
   "outputs": [
    {
     "name": "stdout",
     "output_type": "stream",
     "text": [
      "Before Replacing : ['hello', 132, 13.3, True, False]\n",
      "After Replacing : ['hello', 100, 13.3, True, False]\n"
     ]
    }
   ],
   "source": [
    "lst=['hello', 132, 13.3, True, False]\n",
    "print(f'Before Replacing : {lst}')\n",
    "lst[1] = 100  #here we apply indexing operation..all we here is just assign value to that perticular index\n",
    "print(f'After Replacing : {lst}')  "
   ]
  },
  {
   "cell_type": "markdown",
   "id": "c8e87b59-fe42-464b-9f2a-99644ddd2f23",
   "metadata": {},
   "source": [
    "### copy()"
   ]
  },
  {
   "cell_type": "code",
   "execution_count": 5,
   "id": "17a0ba7d-f168-495e-9a46-a1dcffcc1463",
   "metadata": {},
   "outputs": [
    {
     "name": "stdout",
     "output_type": "stream",
     "text": [
      "['hello', 100, 13.3, True, False]\n",
      "['hello', 100, 13.3, True, False]\n"
     ]
    }
   ],
   "source": [
    "# create copy of list that we define earlier\n",
    "abc = lst.copy()\n",
    "print(lst)\n",
    "print(abc) #same list in this variable"
   ]
  },
  {
   "cell_type": "markdown",
   "id": "73d632c5-8555-4189-be25-59f7c97afdf1",
   "metadata": {},
   "source": [
    "### sort()\n",
    "#### NOTE :- All values in list have same datatype otherwise it gets error"
   ]
  },
  {
   "cell_type": "code",
   "execution_count": 13,
   "id": "d0222981-daee-4d42-9677-11bbf7ca3ed9",
   "metadata": {},
   "outputs": [
    {
     "name": "stdout",
     "output_type": "stream",
     "text": [
      "[1, 2, 2, 3, 4]\n"
     ]
    }
   ],
   "source": [
    "# sort the list in ascending or descending order...bydefault order is ascending\n",
    "l=[2,3,4,2,1]  #same type of element present eaither numerical (here we also provide bool) or text\n",
    "srt = l.sort()\n",
    "print(l)"
   ]
  },
  {
   "cell_type": "code",
   "execution_count": 16,
   "id": "293edb1e-ccaf-40fd-b1e7-0fff0bc71c77",
   "metadata": {},
   "outputs": [
    {
     "name": "stdout",
     "output_type": "stream",
     "text": [
      "[4, 3, 2, 2, 1.2, False]\n"
     ]
    }
   ],
   "source": [
    "# if we want descending order..there is parameter name reverse \n",
    "l=[2,3,4,2,1.2]  \n",
    "srt = l.sort(reverse=True)\n",
    "print(l)"
   ]
  },
  {
   "cell_type": "markdown",
   "id": "6a22c385-4b60-4558-87ae-a73780cdebd1",
   "metadata": {},
   "source": [
    "### reverse()"
   ]
  },
  {
   "cell_type": "code",
   "execution_count": 15,
   "id": "4dad1a2a-487e-4600-8113-44fe02a98f52",
   "metadata": {},
   "outputs": [
    {
     "name": "stdout",
     "output_type": "stream",
     "text": [
      "Before Reversing : ['21', 'hello', 23, 32.11, True]\n",
      "After Reversing : [True, 32.11, 23, 'hello', '21']\n"
     ]
    }
   ],
   "source": [
    "lst = ['21' , 'hello', 23, 32.11, True]\n",
    "print(f'Before Reversing : {lst}')\n",
    "lst.reverse() #reverse the list\n",
    "print(f'After Reversing : {lst}')"
   ]
  },
  {
   "cell_type": "markdown",
   "id": "a5f0105d-2c47-42c5-8006-27bd7ce26209",
   "metadata": {},
   "source": [
    "### count(value)"
   ]
  },
  {
   "cell_type": "code",
   "execution_count": 10,
   "id": "d79fa220-4081-428d-a0ba-6bd4dba4f6cf",
   "metadata": {},
   "outputs": [
    {
     "name": "stdout",
     "output_type": "stream",
     "text": [
      "3\n"
     ]
    }
   ],
   "source": [
    "# count the value\n",
    "lst = [1, 2, 2, 2, 3]\n",
    "print(lst.count(2)) #there 3 element have same value 2"
   ]
  },
  {
   "cell_type": "raw",
   "id": "2e6fd0c8-2e51-46ca-9406-ea73d6a7f937",
   "metadata": {},
   "source": [
    "Note :- argument is an input for we use for that function"
   ]
  },
  {
   "cell_type": "markdown",
   "id": "774fb412-f70f-46fc-8384-460d5fda48d7",
   "metadata": {},
   "source": [
    "# Tuple"
   ]
  },
  {
   "cell_type": "raw",
   "id": "82943823-c397-4eef-b71c-e7fa069a6a21",
   "metadata": {},
   "source": [
    "TUPLE : ()\n",
    "Ordered             -> Elements are stored in a specific sequence, and indexing follow the order.\n",
    "Immutable           -> Tuples cannot be modified after cration(no adding, removing or changing value).\n",
    "Heterogenous        -> A Tuples can store different data types(integers,string,floats,etc.).\n",
    "Indexted            -> Elements can be accedde using zero-based indexing and negative indexing.\n",
    "Allows Duplicates   -> Tuples can contain duplicaate values.\n",
    "Fixed Size          -> Once created, the tuple's size remains constant (because of immutable )"
   ]
  },
  {
   "cell_type": "markdown",
   "id": "a9711d8e-83cf-473d-a88f-9b96504f38f6",
   "metadata": {},
   "source": [
    "## creation of tuple"
   ]
  },
  {
   "cell_type": "code",
   "execution_count": 17,
   "id": "ca3c19f2-cdc7-424d-b7ab-5dd7893e7c68",
   "metadata": {},
   "outputs": [
    {
     "data": {
      "text/plain": [
       "tuple"
      ]
     },
     "execution_count": 17,
     "metadata": {},
     "output_type": "execute_result"
    }
   ],
   "source": [
    "xyz = () #empty tuple\n",
    "type(xyz)"
   ]
  },
  {
   "cell_type": "code",
   "execution_count": 42,
   "id": "00ba2eb4-8164-4e9b-b12d-534cdbe31a1a",
   "metadata": {},
   "outputs": [
    {
     "name": "stdout",
     "output_type": "stream",
     "text": [
      "when we add only one value then type is : <class 'int'>\n",
      "After providing comman : <class 'tuple'>\n"
     ]
    }
   ],
   "source": [
    "# NOTE :- If you try to add only one value in tuple parathensis then that value consider as 'int'\n",
    "t = (1)   #lets we add only one value inside parathensis\n",
    "print(f'when we add only one value then type is : {type(t)}')\n",
    "\n",
    "\n",
    "# we add only one value in tuple we have to provide comma then\n",
    "t= (1,)  #not this is tuple cause we provide comma\n",
    "print(f'After providing comman : {type(t)}')\n"
   ]
  },
  {
   "cell_type": "code",
   "execution_count": null,
   "id": "d6fee71a-dec1-4bd2-9e29-0e48cb9eece9",
   "metadata": {},
   "outputs": [],
   "source": []
  },
  {
   "cell_type": "code",
   "execution_count": 18,
   "id": "60a84f77-f8fd-4076-8e04-4a50777f28d1",
   "metadata": {},
   "outputs": [
    {
     "data": {
      "text/plain": [
       "tuple"
      ]
     },
     "execution_count": 18,
     "metadata": {},
     "output_type": "execute_result"
    }
   ],
   "source": [
    "abc = tuple() #create using function tuple\n",
    "type(abc)"
   ]
  },
  {
   "cell_type": "code",
   "execution_count": 21,
   "id": "436f1bdd-fa9b-4724-9715-c600b5efea82",
   "metadata": {},
   "outputs": [
    {
     "data": {
      "text/plain": [
       "tuple"
      ]
     },
     "execution_count": 21,
     "metadata": {},
     "output_type": "execute_result"
    }
   ],
   "source": [
    "x = (12, 12, 45.3, False, 'Deep Mining')\n",
    "type(x)"
   ]
  },
  {
   "cell_type": "code",
   "execution_count": 22,
   "id": "e5507a49-92e2-475f-b602-f9602222f1c7",
   "metadata": {},
   "outputs": [
    {
     "data": {
      "text/plain": [
       "False"
      ]
     },
     "execution_count": 22,
     "metadata": {},
     "output_type": "execute_result"
    }
   ],
   "source": [
    "# indexing same as list\n",
    "x[3]"
   ]
  },
  {
   "cell_type": "code",
   "execution_count": 32,
   "id": "49a03768-9bd7-45e7-8d58-793ab7200ef1",
   "metadata": {},
   "outputs": [
    {
     "ename": "TypeError",
     "evalue": "'tuple' object does not support item assignment",
     "output_type": "error",
     "traceback": [
      "\u001b[1;31m---------------------------------------------------------------------------\u001b[0m",
      "\u001b[1;31mTypeError\u001b[0m                                 Traceback (most recent call last)",
      "Cell \u001b[1;32mIn[32], line 3\u001b[0m\n\u001b[0;32m      1\u001b[0m \u001b[38;5;66;03m# tuple is immutable can't change its value\u001b[39;00m\n\u001b[0;32m      2\u001b[0m x\u001b[38;5;241m=\u001b[39m(\u001b[38;5;241m12\u001b[39m, \u001b[38;5;241m23\u001b[39m)\n\u001b[1;32m----> 3\u001b[0m \u001b[43mx\u001b[49m\u001b[43m[\u001b[49m\u001b[38;5;241;43m1\u001b[39;49m\u001b[43m]\u001b[49m\u001b[38;5;241m=\u001b[39m\u001b[38;5;241m32\u001b[39m\n\u001b[0;32m      4\u001b[0m x   \n\u001b[0;32m      6\u001b[0m \u001b[38;5;66;03m# NOTE :- tuple is immutable that's the reason we get error here we try to change value \u001b[39;00m\n",
      "\u001b[1;31mTypeError\u001b[0m: 'tuple' object does not support item assignment"
     ]
    }
   ],
   "source": [
    "# tuple is immutable can't change its value\n",
    "x=(12, 23)\n",
    "x[1]=32\n",
    "x   \n",
    "\n",
    "# NOTE :- tuple is immutable that's the reason we get error here we try to change value "
   ]
  },
  {
   "cell_type": "raw",
   "id": "faed5d60-d0f8-4c30-bba4-c011cf28cea2",
   "metadata": {},
   "source": [
    "NOTE :- tuple we used when we want security and privacy"
   ]
  },
  {
   "cell_type": "markdown",
   "id": "941ab10c-a54d-430e-a7e1-aac1268d1803",
   "metadata": {},
   "source": [
    "### count(value)"
   ]
  },
  {
   "cell_type": "code",
   "execution_count": 33,
   "id": "d0a967f7-f3ea-4404-8fb4-3c4b78bb8b4a",
   "metadata": {},
   "outputs": [
    {
     "name": "stdout",
     "output_type": "stream",
     "text": [
      "12 present in tuple 5 times\n"
     ]
    }
   ],
   "source": [
    "#count value\n",
    "t = (12, 12, 23,12, 12 , 12, 34, 32, 'hello', 13.2, True)\n",
    "print(f'12 present in tuple {t.count(12)} times')"
   ]
  },
  {
   "cell_type": "markdown",
   "id": "df679425-cecf-427e-8578-4b7c95bb2b43",
   "metadata": {},
   "source": [
    "### index(value)"
   ]
  },
  {
   "cell_type": "code",
   "execution_count": 34,
   "id": "2d772442-4757-49eb-b6b4-f230837887fb",
   "metadata": {},
   "outputs": [
    {
     "name": "stdout",
     "output_type": "stream",
     "text": [
      "Index of 23 is 2\n"
     ]
    }
   ],
   "source": [
    "# find the index of the sepecific value\n",
    "t = (12, 12, 23,12, 12 , 12, 34, 32, 'hello', 13.2, True)\n",
    "print(f'Index of 23 is {t.index(23)}')"
   ]
  },
  {
   "cell_type": "markdown",
   "id": "a074b3f4-86a2-4310-86b5-f0b0710084c2",
   "metadata": {},
   "source": [
    "# *Dictionary*"
   ]
  },
  {
   "cell_type": "raw",
   "id": "e346394e-2692-4087-a6c4-77eb158b017f",
   "metadata": {},
   "source": [
    "DICTIONARY : {key : value}\n",
    "Ordered                        -> Elements are stored in a specific sequence.\n",
    "key-value pairs                -> Store data as {key:value}pairs.\n",
    "Key Must be Unique & Immutable -> keys must be unique and  immutable types(e.g, string number or tuples with immutalbe elements) it means we use tuple also as key.\n",
    "Values can we any type         -> values can be of any data type including lists and othere dictionary, etc\n",
    "Mutable                        -> Dictionary can be modified (Elemtns can be added, removed, or changed).\n",
    "Heterogenous                   -> A Dictionary can store different data types(integers,string,floats,etc.).\n",
    "Elements Access by keys        -> Elements only access using keys.\n",
    "Does not allow Duplicate Keys  -> Lists can not contain duplicate values.\n"
   ]
  },
  {
   "cell_type": "markdown",
   "id": "bf29701a-6741-4e87-a002-5c1877b25002",
   "metadata": {},
   "source": [
    "## creation of dictionary"
   ]
  },
  {
   "cell_type": "code",
   "execution_count": 36,
   "id": "a0f00de0-d615-4b54-8872-c3bfdfd51948",
   "metadata": {},
   "outputs": [
    {
     "data": {
      "text/plain": [
       "dict"
      ]
     },
     "execution_count": 36,
     "metadata": {},
     "output_type": "execute_result"
    }
   ],
   "source": [
    "# empty dictionary\n",
    "details = {}\n",
    "type(details)"
   ]
  },
  {
   "cell_type": "code",
   "execution_count": 52,
   "id": "ecbfc08d-b706-4616-9a45-6006753a1bb9",
   "metadata": {},
   "outputs": [
    {
     "data": {
      "text/plain": [
       "dict"
      ]
     },
     "execution_count": 52,
     "metadata": {},
     "output_type": "execute_result"
    }
   ],
   "source": [
    "d = {'Name' : 'Roshan', 'Age' : 23}\n",
    "type(d)"
   ]
  },
  {
   "cell_type": "markdown",
   "id": "151eeb0c-2657-4877-a12d-93211f01b1da",
   "metadata": {},
   "source": [
    "## keys()  - return all keys present in dictionary return as list"
   ]
  },
  {
   "cell_type": "code",
   "execution_count": 53,
   "id": "a9f15d11-925c-4d7c-a906-7480f4c99c17",
   "metadata": {},
   "outputs": [
    {
     "data": {
      "text/plain": [
       "dict_keys(['Name', 'Age'])"
      ]
     },
     "execution_count": 53,
     "metadata": {},
     "output_type": "execute_result"
    }
   ],
   "source": [
    "d = {'Name' : 'Roshan', 'Age' : 23}\n",
    "d.keys()"
   ]
  },
  {
   "cell_type": "markdown",
   "id": "5d7ceb45-de93-4103-a8e9-ef516687afce",
   "metadata": {},
   "source": [
    "## values()  - return all values dictionary return as list"
   ]
  },
  {
   "cell_type": "code",
   "execution_count": 54,
   "id": "ad190272-9840-476f-a913-a26d3ed29ff9",
   "metadata": {},
   "outputs": [
    {
     "data": {
      "text/plain": [
       "dict_values(['Roshan', 23])"
      ]
     },
     "execution_count": 54,
     "metadata": {},
     "output_type": "execute_result"
    }
   ],
   "source": [
    "d = {'Name' : 'Roshan', 'Age' : 23}\n",
    "d.values()"
   ]
  },
  {
   "cell_type": "markdown",
   "id": "5f9024d4-3377-4ccf-a3d6-3982118d5f5d",
   "metadata": {},
   "source": [
    "### Replace Element"
   ]
  },
  {
   "cell_type": "code",
   "execution_count": 3,
   "id": "b0453f34-e3af-4990-a112-5f0f961511da",
   "metadata": {},
   "outputs": [
    {
     "data": {
      "text/plain": [
       "{'Name': 'Rahul', 'Age': 23}"
      ]
     },
     "execution_count": 3,
     "metadata": {},
     "output_type": "execute_result"
    }
   ],
   "source": [
    "# Replace element\n",
    "d = {'Name' : 'Roshan', 'Age' : 23}\n",
    "d['Name'] = 'Rahul'  #using this also we replace value of specific keys\n",
    "d"
   ]
  },
  {
   "cell_type": "markdown",
   "id": "ab3f46f2-c9ee-491a-93a7-72cd22eaf62c",
   "metadata": {},
   "source": [
    "## update(dict) \n",
    "#### we have to provide dictionary inside update"
   ]
  },
  {
   "cell_type": "code",
   "execution_count": 55,
   "id": "617c0b56-1d33-4c0e-aa04-4450269c210a",
   "metadata": {},
   "outputs": [
    {
     "data": {
      "text/plain": [
       "{'Name': 'Roshan', 'Age': 23, 'Date': 'April 2025'}"
      ]
     },
     "execution_count": 55,
     "metadata": {},
     "output_type": "execute_result"
    }
   ],
   "source": [
    "#we add one key value inside dictionary\n",
    "d = {'Name' : 'Roshan', 'Age' : 23}\n",
    "d.update({'Date':'April 2025'})\n",
    "d"
   ]
  },
  {
   "cell_type": "code",
   "execution_count": 56,
   "id": "b30f8942-1d12-46d3-a96e-7ec89a13d3e6",
   "metadata": {},
   "outputs": [
    {
     "data": {
      "text/plain": [
       "{'Name': 'Roshan', 'Age': 23, 'Address': 'Satara', 'Course': 'DS'}"
      ]
     },
     "execution_count": 56,
     "metadata": {},
     "output_type": "execute_result"
    }
   ],
   "source": [
    "#we add multiple  key value inside dictionary seprate by comma\n",
    "d = {'Name' : 'Roshan', 'Age' : 23}\n",
    "d.update({'Address':'Satara', 'Course':'DS'})\n",
    "d"
   ]
  },
  {
   "cell_type": "code",
   "execution_count": 57,
   "id": "d9d70e34-2983-43ff-b759-fa39937c1f08",
   "metadata": {},
   "outputs": [
    {
     "data": {
      "text/plain": [
       "{'Name': 'Rahul', 'Age': 23}"
      ]
     },
     "execution_count": 57,
     "metadata": {},
     "output_type": "execute_result"
    }
   ],
   "source": [
    "d = {'Name' : 'Roshan', 'Age' : 23}\n",
    "d.update({'Name':'Rahul'})\n",
    "d   \n",
    "\n",
    "# NOTE :- if there is key already present in our dictionary then it update the name.\n",
    "# ...and if key is not present then it add seprate key:value pair in dictionary"
   ]
  },
  {
   "cell_type": "code",
   "execution_count": 58,
   "id": "a03f8dc3-ab93-410e-8f98-b7ef4f9546fe",
   "metadata": {},
   "outputs": [
    {
     "data": {
      "text/plain": [
       "{'Name': 'Roshan', 'Age': 23, 'Food': ['Mango', 'Pav-Bhaji']}"
      ]
     },
     "execution_count": 58,
     "metadata": {},
     "output_type": "execute_result"
    }
   ],
   "source": [
    "d = {'Name' : 'Roshan', 'Age' : 23}\n",
    "d.update({'Food' : ['Mango', 'Pav-Bhaji']}) \n",
    "d  #we also add list as a value"
   ]
  },
  {
   "cell_type": "markdown",
   "id": "aaa58202-744d-4926-a250-e277c7b2a546",
   "metadata": {},
   "source": [
    "## clear()"
   ]
  },
  {
   "cell_type": "code",
   "execution_count": 60,
   "id": "189bfc7e-0b98-450e-9626-e34eca046ed9",
   "metadata": {},
   "outputs": [
    {
     "data": {
      "text/plain": [
       "{}"
      ]
     },
     "execution_count": 60,
     "metadata": {},
     "output_type": "execute_result"
    }
   ],
   "source": [
    "d = {'Name' : 'Roshan', 'Age' : 23}\n",
    "d.clear()  #remove all elements from list\n",
    "d"
   ]
  },
  {
   "cell_type": "markdown",
   "id": "c94c27ae-c446-423d-ba7f-b1cb11d59c3b",
   "metadata": {},
   "source": [
    "## items()"
   ]
  },
  {
   "cell_type": "code",
   "execution_count": 62,
   "id": "eed8db3c-693d-4ffe-9cbd-9358bc4a6d8e",
   "metadata": {},
   "outputs": [
    {
     "data": {
      "text/plain": [
       "{'Name': 'Roshan', 'Age': 23}"
      ]
     },
     "execution_count": 62,
     "metadata": {},
     "output_type": "execute_result"
    }
   ],
   "source": [
    "d = {'Name' : 'Roshan', 'Age' : 23}\n",
    "d.items()  #get all element as a key value\n",
    "d"
   ]
  },
  {
   "cell_type": "markdown",
   "id": "50a73b91-3253-43b1-89c5-ddb6fca2f8f3",
   "metadata": {},
   "source": [
    "## copy()"
   ]
  },
  {
   "cell_type": "code",
   "execution_count": 66,
   "id": "2331dc60-c6b0-40ba-946f-51e57ab030fe",
   "metadata": {},
   "outputs": [
    {
     "data": {
      "text/plain": [
       "{'Name': 'Roshan', 'Age': 23}"
      ]
     },
     "execution_count": 66,
     "metadata": {},
     "output_type": "execute_result"
    }
   ],
   "source": [
    "# copy dictionary to sepate list\n",
    "d = {'Name' : 'Roshan', 'Age' : 23}\n",
    "cp=d.copy()\n",
    "cp"
   ]
  },
  {
   "cell_type": "markdown",
   "id": "4f5515ac-71e4-4fb1-bc92-df67b2d025d7",
   "metadata": {},
   "source": [
    "## pop()"
   ]
  },
  {
   "cell_type": "code",
   "execution_count": 73,
   "id": "98d2a18a-54f6-4f31-bebd-e44f16e05d7c",
   "metadata": {},
   "outputs": [
    {
     "data": {
      "text/plain": [
       "{'Name': 'Roshan'}"
      ]
     },
     "execution_count": 73,
     "metadata": {},
     "output_type": "execute_result"
    }
   ],
   "source": [
    "# Remove elemnt using keys\n",
    "d = {'Name' : 'Roshan', 'Age' : 23}\n",
    "d.pop('Age')  \n",
    "d"
   ]
  },
  {
   "cell_type": "markdown",
   "id": "eb0efee9-0bf2-443b-b9db-97ad92db4a8a",
   "metadata": {},
   "source": [
    "## popitem()"
   ]
  },
  {
   "cell_type": "code",
   "execution_count": 78,
   "id": "ae344114-3b5c-4c35-9d2a-1de1b737655f",
   "metadata": {},
   "outputs": [
    {
     "name": "stdout",
     "output_type": "stream",
     "text": [
      " delete item ('Age', 23) \n",
      " After pop item dictionary look like {'Name': 'Roshan'}\n"
     ]
    }
   ],
   "source": [
    "# remove last key:value pair also return that delete key: vlaue as tuple\n",
    "d = {'Name' : 'Roshan', 'Age' : 23}\n",
    "print(f' delete item {d.popitem()} ') \n",
    "print(f' After pop item dictionary look like {d}')"
   ]
  },
  {
   "cell_type": "markdown",
   "id": "f712a71c-fce3-4f3e-b95d-3b2a4e4fba0f",
   "metadata": {},
   "source": [
    "# Set"
   ]
  },
  {
   "cell_type": "raw",
   "id": "d3cf3289-3210-4b46-b2c8-af3c05076c39",
   "metadata": {},
   "source": [
    "set : {}\n",
    "Unordered                              :- Elements in a set do not have a fixed order.\n",
    "Unindexed                              :- Elemnts cannot be accessed using an index like lists or tuples.\n",
    "Mutable(but Elemnts Must Be Immutable) :- You can add or remove elemnts, but individual elements must be of immutable types (e.g, numbers, strings, tuples with immutable elemts).\n",
    "No Duplicated Allowed                  :- Automatically removes duplicate element\n",
    "Dynamic Size                           :- Can grow or shirng dynamically based on operations.\n",
    "Heterogenous Data Sturcture            :- You add differnt data types / data structure..but only those are immutable"
   ]
  },
  {
   "cell_type": "markdown",
   "id": "692c56ab-6673-48aa-896e-fa4fbd6f322b",
   "metadata": {},
   "source": [
    "### creation of set"
   ]
  },
  {
   "cell_type": "code",
   "execution_count": 5,
   "id": "26bdd036-c8a6-4123-8a2f-376e4d18a8ba",
   "metadata": {},
   "outputs": [
    {
     "data": {
      "text/plain": [
       "set"
      ]
     },
     "execution_count": 5,
     "metadata": {},
     "output_type": "execute_result"
    }
   ],
   "source": [
    "# empty set\n",
    "s = {} #this is not set this is dictionary\n",
    "# if you want to create empty set then use built-in function set\n",
    "s = set()  \n",
    "type(s)\n",
    "\n",
    "# NOTE - if you use curly brackets {} without key-value pairs...then it consider as set"
   ]
  },
  {
   "cell_type": "code",
   "execution_count": 15,
   "id": "0836d8a4-e4b1-4e4b-9a3e-93f948d445e4",
   "metadata": {},
   "outputs": [
    {
     "name": "stdout",
     "output_type": "stream",
     "text": [
      "{False, True, 'hello', 43, 12, 12.3, 'by', 23}\n"
     ]
    }
   ],
   "source": [
    "#unordered\n",
    "s = {12, 23, 12 , 12.3, False, True , 43, 23, 'hello','by'}\n",
    "print(s) # ordered is not maitained...by comes before hello"
   ]
  },
  {
   "cell_type": "code",
   "execution_count": 16,
   "id": "12ac9934-05a2-41f5-9307-aa8e65fa5ff8",
   "metadata": {},
   "outputs": [
    {
     "ename": "TypeError",
     "evalue": "'set' object is not subscriptable",
     "output_type": "error",
     "traceback": [
      "\u001b[1;31m---------------------------------------------------------------------------\u001b[0m",
      "\u001b[1;31mTypeError\u001b[0m                                 Traceback (most recent call last)",
      "Cell \u001b[1;32mIn[16], line 2\u001b[0m\n\u001b[0;32m      1\u001b[0m \u001b[38;5;66;03m# unindexed\u001b[39;00m\n\u001b[1;32m----> 2\u001b[0m \u001b[43ms\u001b[49m\u001b[43m[\u001b[49m\u001b[38;5;241;43m1\u001b[39;49m\u001b[43m]\u001b[49m\n",
      "\u001b[1;31mTypeError\u001b[0m: 'set' object is not subscriptable"
     ]
    }
   ],
   "source": [
    "# unindexed\n",
    "s = {12, 23, 12 , 12.3, False, True , 43, 23, 'hello','by'}\n",
    "s[1]  #error comes if you try to fetch using index"
   ]
  },
  {
   "cell_type": "markdown",
   "id": "595dc92a-84b8-48a8-a641-8c5d89a52cad",
   "metadata": {},
   "source": [
    "### add(value)"
   ]
  },
  {
   "cell_type": "code",
   "execution_count": 21,
   "id": "799eb4e9-ec78-4ea6-a15b-e6b51f3786b3",
   "metadata": {},
   "outputs": [
    {
     "name": "stdout",
     "output_type": "stream",
     "text": [
      "{'hello', 12}\n"
     ]
    }
   ],
   "source": [
    "# you can add element in set using add function\n",
    "s = set()  #empty set\n",
    "s.add(12)  # add 12 first time\n",
    "s.add(12) #we add 12 second time here but set not get duplicated value.\n",
    "s.add('hello')  # add hello\n",
    "print(s)"
   ]
  },
  {
   "cell_type": "code",
   "execution_count": 23,
   "id": "271ba433-027a-49ad-b6c6-2f336508a446",
   "metadata": {},
   "outputs": [
    {
     "ename": "TypeError",
     "evalue": "unhashable type: 'list'",
     "output_type": "error",
     "traceback": [
      "\u001b[1;31m---------------------------------------------------------------------------\u001b[0m",
      "\u001b[1;31mTypeError\u001b[0m                                 Traceback (most recent call last)",
      "Cell \u001b[1;32mIn[23], line 2\u001b[0m\n\u001b[0;32m      1\u001b[0m s \u001b[38;5;241m=\u001b[39m \u001b[38;5;28mset\u001b[39m()\n\u001b[1;32m----> 2\u001b[0m \u001b[43ms\u001b[49m\u001b[38;5;241;43m.\u001b[39;49m\u001b[43madd\u001b[49m\u001b[43m(\u001b[49m\u001b[43m[\u001b[49m\u001b[38;5;124;43m'\u001b[39;49m\u001b[38;5;124;43mhi\u001b[39;49m\u001b[38;5;124;43m'\u001b[39;49m\u001b[43m,\u001b[49m\u001b[38;5;124;43m'\u001b[39;49m\u001b[38;5;124;43mby\u001b[39;49m\u001b[38;5;124;43m'\u001b[39;49m\u001b[43m]\u001b[49m\u001b[43m)\u001b[49m\n\u001b[0;32m      3\u001b[0m s\n\u001b[0;32m      4\u001b[0m \u001b[38;5;66;03m# we get error here because set not take mutable data structure list as a value\u001b[39;00m\n\u001b[0;32m      5\u001b[0m \u001b[38;5;66;03m# when we add value make sure...value is immutable data type..like number,string, tuple\u001b[39;00m\n",
      "\u001b[1;31mTypeError\u001b[0m: unhashable type: 'list'"
     ]
    }
   ],
   "source": [
    "s = set()\n",
    "s.add(['hi','by'])\n",
    "s\n",
    "# we get error here because set not take mutable data structure list as a value\n",
    "# when we add value make sure...value is immutable data type..like number,string, tuple"
   ]
  },
  {
   "cell_type": "markdown",
   "id": "1432f226-05cf-49bd-b360-472967d7c5b7",
   "metadata": {},
   "source": [
    "### pop()"
   ]
  },
  {
   "cell_type": "code",
   "execution_count": 28,
   "id": "ed528cbc-96b2-4a28-837c-253a2fad8313",
   "metadata": {},
   "outputs": [
    {
     "data": {
      "text/plain": [
       "{23, 54, 223}"
      ]
     },
     "execution_count": 28,
     "metadata": {},
     "output_type": "execute_result"
    }
   ],
   "source": [
    "# delete any random value in set\n",
    "s = {223,23,34,54}\n",
    "s.pop()\n",
    "s"
   ]
  },
  {
   "cell_type": "markdown",
   "id": "c3ce0886-9c64-44e9-a47c-aae08aa0840e",
   "metadata": {},
   "source": [
    "### remove(value)"
   ]
  },
  {
   "cell_type": "code",
   "execution_count": 31,
   "id": "696128f9-8c9f-409f-bc90-e2fe076d3435",
   "metadata": {},
   "outputs": [
    {
     "data": {
      "text/plain": [
       "{13, 34.2, True, 'there'}"
      ]
     },
     "execution_count": 31,
     "metadata": {},
     "output_type": "execute_result"
    }
   ],
   "source": [
    "# remove specified value in set\n",
    "s = {'hi', 'there', 13, 34.2, True}\n",
    "s.remove('hi')\n",
    "s"
   ]
  },
  {
   "cell_type": "markdown",
   "id": "4e26cca6-6d0b-40e9-b60e-0f3a86146ebc",
   "metadata": {},
   "source": [
    "### duplicates element not possible in set"
   ]
  },
  {
   "cell_type": "code",
   "execution_count": 34,
   "id": "a7de1315-bf50-48ba-9833-5e1ada63a4b1",
   "metadata": {},
   "outputs": [
    {
     "data": {
      "text/plain": [
       "{1, 3}"
      ]
     },
     "execution_count": 34,
     "metadata": {},
     "output_type": "execute_result"
    }
   ],
   "source": [
    "s = {1,1,1,1,1,1,1,1,1,1,3,3,3,3}\n",
    "s  #duplicates not allowed in set"
   ]
  },
  {
   "cell_type": "markdown",
   "id": "ecdf1ce8-8b94-44d4-9f42-b20696f82fd5",
   "metadata": {},
   "source": [
    "# Typecasting\n",
    "### A method of changing data type or data structure of any variable"
   ]
  },
  {
   "cell_type": "code",
   "execution_count": 45,
   "id": "549fff4b-59c6-40d6-91d5-ae6d726a7b8f",
   "metadata": {},
   "outputs": [
    {
     "name": "stdout",
     "output_type": "stream",
     "text": [
      "Type cast list to set {32, 1, 43, 22, 23}\n",
      "Type cast set to list [32, 1, 43, 22, 23]\n"
     ]
    }
   ],
   "source": [
    "# convert list to set\n",
    "l = [1,1,23,23,22, 43, 32, 23, 32]\n",
    "unique_set = set(l)   #typecast list to set using set() function\n",
    "print(\"Type cast list to set\",unique_set)\n",
    "\n",
    "l = list(unique_set)\n",
    "print(\"Type cast set to list\",l)\n"
   ]
  },
  {
   "cell_type": "code",
   "execution_count": 48,
   "id": "bd0180e0-14e4-4815-87c4-3fb336e2c7e0",
   "metadata": {},
   "outputs": [
    {
     "data": {
      "text/plain": [
       "list"
      ]
     },
     "execution_count": 48,
     "metadata": {},
     "output_type": "execute_result"
    }
   ],
   "source": [
    "# here we want all unique element in list\n",
    "l = [1,1,23,23,22, 43, 32, 23, 32]\n",
    "l = list(set(l)) \n",
    "# here inner function perfrom set(l) - convert list to set\n",
    "# then perfrom outer function list(output of set(l) - then it convert to list\n",
    "type(l)"
   ]
  },
  {
   "cell_type": "code",
   "execution_count": null,
   "id": "99c4c12b-cedf-43bc-adbf-90d72bdc8179",
   "metadata": {},
   "outputs": [],
   "source": []
  }
 ],
 "metadata": {
  "kernelspec": {
   "display_name": "Python 3 (ipykernel)",
   "language": "python",
   "name": "python3"
  },
  "language_info": {
   "codemirror_mode": {
    "name": "ipython",
    "version": 3
   },
   "file_extension": ".py",
   "mimetype": "text/x-python",
   "name": "python",
   "nbconvert_exporter": "python",
   "pygments_lexer": "ipython3",
   "version": "3.11.7"
  }
 },
 "nbformat": 4,
 "nbformat_minor": 5
}
