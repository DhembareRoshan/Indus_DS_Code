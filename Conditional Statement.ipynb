{
 "cells": [
  {
   "cell_type": "markdown",
   "id": "b20c4b6a-ea44-46a5-ab3a-c820d0b002b1",
   "metadata": {},
   "source": [
    "# Underatnding the comparisoin operators\n",
    "- There are 6 comparitor operators\n",
    "  - '=='     -> equal to\n",
    "  - '!='     -> not equal to\n",
    "  - '>'      -> greater then\n",
    "  - '<'      -> less than\n",
    "  - '>='     -> greater than equal to\n",
    "  - '<='     -> less than equal to\n",
    " \n",
    "- Output of Comparision operator is Boolean Type (True/False)"
   ]
  },
  {
   "cell_type": "code",
   "execution_count": 11,
   "id": "a99f482b-b780-4f0a-bcf2-16ca265e5f59",
   "metadata": {},
   "outputs": [
    {
     "data": {
      "text/plain": [
       "False"
      ]
     },
     "execution_count": 11,
     "metadata": {},
     "output_type": "execute_result"
    }
   ],
   "source": [
    "a=78\n",
    "b=12\n",
    "a == b # is a equal to b"
   ]
  },
  {
   "cell_type": "code",
   "execution_count": 12,
   "id": "3a167f2c-2190-43db-a555-872447b19ead",
   "metadata": {},
   "outputs": [
    {
     "data": {
      "text/plain": [
       "True"
      ]
     },
     "execution_count": 12,
     "metadata": {},
     "output_type": "execute_result"
    }
   ],
   "source": [
    "# is a not equal to b\n",
    "a != b  "
   ]
  },
  {
   "cell_type": "code",
   "execution_count": 13,
   "id": "b64781c6-e165-4a62-88e0-8660c16ecf50",
   "metadata": {},
   "outputs": [
    {
     "data": {
      "text/plain": [
       "True"
      ]
     },
     "execution_count": 13,
     "metadata": {},
     "output_type": "execute_result"
    }
   ],
   "source": [
    "# a greater than b\n",
    "a > b"
   ]
  },
  {
   "cell_type": "code",
   "execution_count": 14,
   "id": "db2aa9df-2973-4873-af11-c1755c9ffa3c",
   "metadata": {},
   "outputs": [
    {
     "data": {
      "text/plain": [
       "False"
      ]
     },
     "execution_count": 14,
     "metadata": {},
     "output_type": "execute_result"
    }
   ],
   "source": [
    "# a is less than b\n",
    "a < b"
   ]
  },
  {
   "cell_type": "code",
   "execution_count": 15,
   "id": "622143a7-ca73-4421-b5e9-d27a1d7a3afd",
   "metadata": {},
   "outputs": [
    {
     "data": {
      "text/plain": [
       "True"
      ]
     },
     "execution_count": 15,
     "metadata": {},
     "output_type": "execute_result"
    }
   ],
   "source": [
    "# a greater than equal to b\n",
    "a >= b"
   ]
  },
  {
   "cell_type": "code",
   "execution_count": 16,
   "id": "fac1955b-a51c-45b9-8650-2591a9519a52",
   "metadata": {},
   "outputs": [
    {
     "data": {
      "text/plain": [
       "False"
      ]
     },
     "execution_count": 16,
     "metadata": {},
     "output_type": "execute_result"
    }
   ],
   "source": [
    "# a less than equal to b\n",
    "a <= b"
   ]
  },
  {
   "cell_type": "markdown",
   "id": "5317ea97-b411-4dba-aaa8-2a8ba00860ae",
   "metadata": {},
   "source": [
    "# Conditional Statements in Python"
   ]
  },
  {
   "cell_type": "markdown",
   "id": "3ebfbcbb-3832-4790-bf88-6bf7ed7f2564",
   "metadata": {},
   "source": [
    "- Conditional statements in python are used to get specific output based on certain conditoins\n",
    "- There are 3 types of conditional statement in pythos.\n",
    "  - if\n",
    "  - elif\n",
    "  - else"
   ]
  },
  {
   "cell_type": "markdown",
   "id": "57fd72c9-fb6c-4f4e-b072-a5715f2ee3b2",
   "metadata": {},
   "source": [
    "### Properties of Conditional Statement in Python\n",
    "1. Uses Boolean Login -> Conditionsevalute to True or False.\n",
    "2. Sequential Checking -> If-elif-else statement are checked in order. once a condition is True, the reset are skipped\n",
    "3. Allows Multiple Conditions -> Can use logical operators ( and (&), not (!), or (|) ) to combine multiple condition\n",
    "4. Indentation Matters -> Python uses indentation ( not braces {} ) to define code blocks inside conditoions.\n",
    "5. Flexible comparision -> Support comparision operators (==, >,<,<=,>=, !=)\n",
    "6. Efficient Execution -> Once a true condition found, the rest of elif and else block ignored."
   ]
  },
  {
   "cell_type": "markdown",
   "id": "53ffc58b-ab58-4514-af34-a2ac72f55570",
   "metadata": {},
   "source": [
    "### Problem: Write a program that checks if a person has give correct password"
   ]
  },
  {
   "cell_type": "code",
   "execution_count": 18,
   "id": "08a09d1d-825b-4c7d-8e22-8f433805ed00",
   "metadata": {},
   "outputs": [
    {
     "name": "stdout",
     "output_type": "stream",
     "text": [
      "Password is Matched\n",
      "Access Given !\n"
     ]
    }
   ],
   "source": [
    "original_password = 'admin123'\n",
    "user_password = 'admin123'\n",
    "\n",
    "if original_password == user_password:  # ':' here colon denote if block start\n",
    "    print('Password is Matched')  #the first 4 space consider as indentation in python\n",
    "    print('Access Given !')\n",
    "else:\n",
    "    print('Password is not Matched')\n",
    "\n",
    "# here we provide condition is original password is equal to user password\n",
    "# then output of condition comes in boolean..if output/condition is true then if block executed...if output/condition is false then else block is executed"
   ]
  },
  {
   "cell_type": "code",
   "execution_count": 22,
   "id": "e070fec0-65e1-4ff7-a6c6-669d6e81008c",
   "metadata": {},
   "outputs": [
    {
     "name": "stdout",
     "output_type": "stream",
     "text": [
      "Password is not correct\n"
     ]
    }
   ],
   "source": [
    "# if the both password is not matched then result come false for that conditionn then else block executed in such scenario\n",
    "original_pass = 'admin123'\n",
    "user_pass = 'user123'\n",
    "\n",
    "if original_pass == user_pass:\n",
    "    print('Password in correct')\n",
    "else :\n",
    "    print('Password is not correct')\n",
    "\n",
    "# NOTE :- we never provide condition to else"
   ]
  },
  {
   "cell_type": "markdown",
   "id": "8b505652-cb1c-4c3e-9233-8be393711508",
   "metadata": {},
   "source": [
    "### if..elif\n",
    "- When we have multiple condition to check in that case we use if..elif..else"
   ]
  },
  {
   "cell_type": "markdown",
   "id": "a6acbbc9-387d-4985-9787-9f6e3af5b521",
   "metadata": {},
   "source": [
    "### 1. Problem check no. is negative, positive or zero"
   ]
  },
  {
   "cell_type": "code",
   "execution_count": 23,
   "id": "495198ca-5fcc-49b5-8a1c-52098103f623",
   "metadata": {},
   "outputs": [
    {
     "name": "stdout",
     "output_type": "stream",
     "text": [
      "Number is positive\n"
     ]
    }
   ],
   "source": [
    "number = 12\n",
    "if number > 0:\n",
    "    print('Number is positive')\n",
    "elif number < 0:\n",
    "    print('Number is Negative')\n",
    "else:\n",
    "    print('Number is Zero')\n",
    "\n",
    "### in above code...the first it condtion check if number is greater than zero..if condition is true it goes to that 'if' block\n",
    "### if the first condition is false then it goes to second condition there check if number is less than zero..if condition is true execute that 'if' block code\n",
    "### and if the second condition also false then it execute else blocl of code\n",
    "\n",
    "# NOTE :- Only on block of code executed...it don't exicuted all\n",
    "# whichever condition is true first...that block executed"
   ]
  },
  {
   "cell_type": "markdown",
   "id": "8a3422f6-787c-4858-8412-fab4b5f2819e",
   "metadata": {},
   "source": [
    "# LOGICAL OPERATOR\n",
    "    - returns boolean output\n",
    "    - and => output is true if all condition is true\n",
    "    - or  => output is true if one of condition is true\n",
    "    - not => reverse the output\n",
    "    "
   ]
  },
  {
   "cell_type": "markdown",
   "id": "204b7489-aa02-4d99-a661-4758ce7ef78d",
   "metadata": {},
   "source": [
    "### and  (&)\n",
    "    - True   True  True  = True\n",
    "    - if all condition is true then output is true"
   ]
  },
  {
   "cell_type": "code",
   "execution_count": 25,
   "id": "94c5db7d-cdb7-4dcc-b0e2-3f720aaeb5d8",
   "metadata": {},
   "outputs": [
    {
     "name": "stdout",
     "output_type": "stream",
     "text": [
      "All number are identical\n"
     ]
    }
   ],
   "source": [
    "a = 12\n",
    "b = 12\n",
    "c = 12\n",
    "if a == b  & b == c :\n",
    "    print(\"All number are identical\")"
   ]
  },
  {
   "cell_type": "code",
   "execution_count": 28,
   "id": "0c52b391-ef1a-4980-b47b-cca26481bc9b",
   "metadata": {},
   "outputs": [
    {
     "name": "stdout",
     "output_type": "stream",
     "text": [
      "Number are not identical\n"
     ]
    }
   ],
   "source": [
    "a = 12\n",
    "b = 12\n",
    "c = 13\n",
    "if a == b & b == c:\n",
    "    print('All number are identical')\n",
    "else:\n",
    "    print('Number are not identical')\n",
    "# here we first condition output is 'True' and second condition is 'false' then for 'and' output come 'False'          "
   ]
  },
  {
   "cell_type": "markdown",
   "id": "42cc3441-8159-4bb4-9cec-6a7cb774c4f7",
   "metadata": {},
   "source": [
    "### or  (|)\n",
    " - True    True   False = True\n",
    " - if one of condition is true overall condition is True"
   ]
  },
  {
   "cell_type": "code",
   "execution_count": 30,
   "id": "2dd4b7f3-1303-43d4-8431-1c8fc51e8b1c",
   "metadata": {},
   "outputs": [
    {
     "name": "stdout",
     "output_type": "stream",
     "text": [
      "Number are not identical\n"
     ]
    }
   ],
   "source": [
    "a = 12\n",
    "b = 12\n",
    "c = 13\n",
    "if a == b | b == c :\n",
    "    print(\"All number are identical\")\n",
    "else:\n",
    "    print('Number are not identical')\n",
    "\n",
    "# here 'first' condition output is 'true' and 'second' condition output is 'false' because of 'or' we need only one condition to be true \n",
    "# that's reason we get output is 'true'"
   ]
  },
  {
   "cell_type": "markdown",
   "id": "252cb4f9-0f15-4bfd-b15e-5456cf3b0312",
   "metadata": {},
   "source": [
    "### Problem : Write a program that checks if a person has given correct password and username\n"
   ]
  },
  {
   "cell_type": "code",
   "execution_count": 36,
   "id": "36117790-496b-4c2b-ac7c-0ee5d86dad89",
   "metadata": {},
   "outputs": [
    {
     "name": "stdout",
     "output_type": "stream",
     "text": [
      "Username and password matched\n"
     ]
    }
   ],
   "source": [
    "original_id = 'admin'\n",
    "original_password = 1234\n",
    "\n",
    "user_id = 'admin'\n",
    "user_password = 1234\n",
    "\n",
    "if (original_id == user_id)  & (original_password == user_password):\n",
    "    print(\"Username and password matched\")\n",
    "elif (original_id == user_id) & (original_password != user_password):\n",
    "    print(\"Password is not matched\")\n",
    "elif (original_id != user_id) & (original_password == user_password):\n",
    "    print(\"User id is not matched\")\n",
    "else:\n",
    "    print(\"Both Username and password not matched\")"
   ]
  },
  {
   "cell_type": "markdown",
   "id": "94aa9aeb-eb98-4cb9-b163-e6ee6d2aaeab",
   "metadata": {},
   "source": [
    "### Problem: check the temperature"
   ]
  },
  {
   "cell_type": "code",
   "execution_count": 38,
   "id": "be8a22cd-6ace-495d-8ff5-5317160ba3fc",
   "metadata": {},
   "outputs": [
    {
     "name": "stdout",
     "output_type": "stream",
     "text": [
      "Its cold outside\n"
     ]
    }
   ],
   "source": [
    "temperature = 13\n",
    "if temperature > 30:\n",
    "    print('Temperature is high')\n",
    "elif temperature > 20:\n",
    "    print('Weather is good')\n",
    "else:\n",
    "    print('Its cold outside')"
   ]
  },
  {
   "cell_type": "code",
   "execution_count": null,
   "id": "0ac4f460-0149-4369-bec8-0a45f4a8d2e6",
   "metadata": {},
   "outputs": [],
   "source": []
  }
 ],
 "metadata": {
  "kernelspec": {
   "display_name": "Python 3 (ipykernel)",
   "language": "python",
   "name": "python3"
  },
  "language_info": {
   "codemirror_mode": {
    "name": "ipython",
    "version": 3
   },
   "file_extension": ".py",
   "mimetype": "text/x-python",
   "name": "python",
   "nbconvert_exporter": "python",
   "pygments_lexer": "ipython3",
   "version": "3.11.7"
  }
 },
 "nbformat": 4,
 "nbformat_minor": 5
}
